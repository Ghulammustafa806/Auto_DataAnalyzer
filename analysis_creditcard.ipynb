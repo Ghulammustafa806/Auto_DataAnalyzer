{
 "cells": [
  {
   "cell_type": "markdown",
   "id": "3ada1094",
   "metadata": {},
   "source": [
    "# AUTOMATED DATA ANALYSIS REPORT\n",
    "\n",
    "*File:* `creditcard.csv`"
   ]
  },
  {
   "cell_type": "code",
   "execution_count": null,
   "id": "c0d43877",
   "metadata": {},
   "outputs": [],
   "source": [
    "import pandas as pd\n",
    "import numpy as np\n",
    "import seaborn as sns\n",
    "import matplotlib.pyplot as plt\n",
    "import os\n",
    "\n",
    "pd.set_option('display.max_columns', 50)\n",
    "pd.set_option('display.width', 1000)\n",
    "pd.set_option('display.float_format', lambda x: '%.3f' % x)"
   ]
  },
  {
   "cell_type": "code",
   "execution_count": null,
   "id": "4deddc4a",
   "metadata": {},
   "outputs": [],
   "source": [
    "# Load data\n",
    "df = pd.read_csv('C:/Users/GHULAM MUSTAFA/Downloads/creditcard.csv/creditcard.csv')"
   ]
  },
  {
   "cell_type": "code",
   "execution_count": null,
   "id": "f9544d10",
   "metadata": {},
   "outputs": [],
   "source": [
    "# BASIC DATA INSPECTION\n",
    "print('\\n=== First 5 Rows ===')\n",
    "display(df.head())\n",
    "print('\\n=== Dataset Info ===')\n",
    "display(df.info())\n",
    "print('\\n=== Descriptive Statistics ===')\n",
    "display(df.describe(include='all'))\n",
    "\n",
    "# MISSING VALUE ANALYSIS\n",
    "missing_values = df.isnull().sum()\n",
    "missing_pct = (df.isnull().mean() * 100).round(2)\n",
    "missing_df = pd.concat([missing_values, missing_pct], axis=1)\n",
    "missing_df.columns = ['Missing Count', 'Missing %']\n",
    "missing_df = missing_df[missing_df['Missing Count'] > 0]\n",
    "if not missing_df.empty:\n",
    "    print('\\n=== Columns with Missing Values ===')\n",
    "    display(missing_df.sort_values('Missing %', ascending=False))\n",
    "else:\n",
    "    print('\\nNo missing values found in any columns.')\n",
    "\n",
    "# NUMERIC COLUMNS ANALYSIS\n",
    "numeric_cols = df.select_dtypes(include=np.number).columns.tolist()\n",
    "print(f'\\nFound {len(numeric_cols)} numeric columns')\n",
    "for col in numeric_cols:\n",
    "    print(f'\\n--- {col} ---')\n",
    "    print(f'Mean: {df[col].mean():.2f} | Median: {df[col].median():.2f}')\n",
    "    print(f'Std: {df[col].std():.2f} | Range: {df[col].min():.2f}-{df[col].max():.2f}')\n",
    "    print(f'Skew: {df[col].skew():.2f} | Kurtosis: {df[col].kurtosis():.2f}')"
   ]
  },
  {
   "cell_type": "code",
   "execution_count": null,
   "id": "ebb7ddec",
   "metadata": {},
   "outputs": [],
   "source": [
    "# VISUALIZATION SETUP\n",
    "%matplotlib inline\n",
    "import seaborn as sns\n",
    "import matplotlib.pyplot as plt\n",
    "import os\n",
    "sns.set()\n",
    "sns.set_palette('husl')\n",
    "if not os.path.exists('charts'):\n",
    "    os.makedirs('charts')\n",
    "numeric_cols = df.select_dtypes(include='number').columns.tolist()\n",
    "cat_cols = [col for col in df.select_dtypes(include=['object', 'category']).columns if df[col].nunique() < 15]\n"
   ]
  },
  {
   "cell_type": "code",
   "execution_count": null,
   "id": "e5a9f60e",
   "metadata": {},
   "outputs": [],
   "source": [
    "\n",
    "import numpy as np\n",
    "plt.figure(figsize=(12,10))\n",
    "corr = df[['Time', 'V1', 'V2', 'V3', 'V4', 'V5', 'V6', 'V7', 'V8', 'V9', 'V10', 'V11', 'V12', 'V13', 'V14', 'V15', 'V16', 'V17', 'V18', 'V19', 'V20', 'V21', 'V22', 'V23', 'V24', 'V25', 'V26', 'V27', 'V28', 'Amount', 'Class']].corr()\n",
    "mask = np.triu(np.ones_like(corr, dtype=bool))\n",
    "sns.heatmap(corr, mask=mask, annot=True, fmt='.2f', cmap='coolwarm', center=0)\n",
    "plt.title('Correlation Heatmap')\n",
    "plt.xticks(rotation=45)\n",
    "plt.tight_layout()\n",
    "plt.savefig('charts/correlation_heatmap.png', dpi=150)\n",
    "plt.show()\n"
   ]
  },
  {
   "cell_type": "code",
   "execution_count": null,
   "id": "59ce5be4",
   "metadata": {},
   "outputs": [],
   "source": [
    "\n",
    "plt.figure(figsize=(8,5))\n",
    "sns.histplot(df['Time'], kde=True, bins=30)\n",
    "plt.title('Distribution of Time')\n",
    "plt.tight_layout()\n",
    "plt.savefig('charts/hist_Time.png', dpi=150)\n",
    "plt.show()\n"
   ]
  },
  {
   "cell_type": "code",
   "execution_count": null,
   "id": "68063681",
   "metadata": {},
   "outputs": [],
   "source": [
    "\n",
    "plt.figure(figsize=(8,5))\n",
    "sns.histplot(df['V1'], kde=True, bins=30)\n",
    "plt.title('Distribution of V1')\n",
    "plt.tight_layout()\n",
    "plt.savefig('charts/hist_V1.png', dpi=150)\n",
    "plt.show()\n"
   ]
  },
  {
   "cell_type": "code",
   "execution_count": null,
   "id": "6ef40d57",
   "metadata": {},
   "outputs": [],
   "source": [
    "\n",
    "plt.figure(figsize=(8,5))\n",
    "sns.histplot(df['V2'], kde=True, bins=30)\n",
    "plt.title('Distribution of V2')\n",
    "plt.tight_layout()\n",
    "plt.savefig('charts/hist_V2.png', dpi=150)\n",
    "plt.show()\n"
   ]
  },
  {
   "cell_type": "code",
   "execution_count": null,
   "id": "45281382",
   "metadata": {},
   "outputs": [],
   "source": [
    "\n",
    "plt.figure(figsize=(8,5))\n",
    "sns.histplot(df['V3'], kde=True, bins=30)\n",
    "plt.title('Distribution of V3')\n",
    "plt.tight_layout()\n",
    "plt.savefig('charts/hist_V3.png', dpi=150)\n",
    "plt.show()\n"
   ]
  },
  {
   "cell_type": "code",
   "execution_count": null,
   "id": "80e31b52",
   "metadata": {},
   "outputs": [],
   "source": [
    "\n",
    "plt.figure(figsize=(8,5))\n",
    "sns.histplot(df['V4'], kde=True, bins=30)\n",
    "plt.title('Distribution of V4')\n",
    "plt.tight_layout()\n",
    "plt.savefig('charts/hist_V4.png', dpi=150)\n",
    "plt.show()\n"
   ]
  },
  {
   "cell_type": "code",
   "execution_count": null,
   "id": "92de7cc1",
   "metadata": {},
   "outputs": [],
   "source": [
    "\n",
    "plt.figure(figsize=(8,5))\n",
    "sns.histplot(df['V5'], kde=True, bins=30)\n",
    "plt.title('Distribution of V5')\n",
    "plt.tight_layout()\n",
    "plt.savefig('charts/hist_V5.png', dpi=150)\n",
    "plt.show()\n"
   ]
  },
  {
   "cell_type": "code",
   "execution_count": null,
   "id": "f40916b9",
   "metadata": {},
   "outputs": [],
   "source": [
    "\n",
    "plt.figure(figsize=(8,5))\n",
    "sns.histplot(df['V6'], kde=True, bins=30)\n",
    "plt.title('Distribution of V6')\n",
    "plt.tight_layout()\n",
    "plt.savefig('charts/hist_V6.png', dpi=150)\n",
    "plt.show()\n"
   ]
  },
  {
   "cell_type": "code",
   "execution_count": null,
   "id": "ac49574f",
   "metadata": {},
   "outputs": [],
   "source": [
    "\n",
    "plt.figure(figsize=(8,5))\n",
    "sns.histplot(df['V7'], kde=True, bins=30)\n",
    "plt.title('Distribution of V7')\n",
    "plt.tight_layout()\n",
    "plt.savefig('charts/hist_V7.png', dpi=150)\n",
    "plt.show()\n"
   ]
  },
  {
   "cell_type": "code",
   "execution_count": null,
   "id": "0504f30f",
   "metadata": {},
   "outputs": [],
   "source": [
    "\n",
    "plt.figure(figsize=(8,5))\n",
    "sns.histplot(df['V8'], kde=True, bins=30)\n",
    "plt.title('Distribution of V8')\n",
    "plt.tight_layout()\n",
    "plt.savefig('charts/hist_V8.png', dpi=150)\n",
    "plt.show()\n"
   ]
  },
  {
   "cell_type": "code",
   "execution_count": null,
   "id": "1f156e7b",
   "metadata": {},
   "outputs": [],
   "source": [
    "\n",
    "plt.figure(figsize=(8,5))\n",
    "sns.histplot(df['V9'], kde=True, bins=30)\n",
    "plt.title('Distribution of V9')\n",
    "plt.tight_layout()\n",
    "plt.savefig('charts/hist_V9.png', dpi=150)\n",
    "plt.show()\n"
   ]
  },
  {
   "cell_type": "code",
   "execution_count": null,
   "id": "8688c818",
   "metadata": {},
   "outputs": [],
   "source": [
    "\n",
    "plt.figure(figsize=(8,5))\n",
    "sns.histplot(df['V10'], kde=True, bins=30)\n",
    "plt.title('Distribution of V10')\n",
    "plt.tight_layout()\n",
    "plt.savefig('charts/hist_V10.png', dpi=150)\n",
    "plt.show()\n"
   ]
  },
  {
   "cell_type": "code",
   "execution_count": null,
   "id": "7f7cef13",
   "metadata": {},
   "outputs": [],
   "source": [
    "\n",
    "plt.figure(figsize=(8,5))\n",
    "sns.histplot(df['V11'], kde=True, bins=30)\n",
    "plt.title('Distribution of V11')\n",
    "plt.tight_layout()\n",
    "plt.savefig('charts/hist_V11.png', dpi=150)\n",
    "plt.show()\n"
   ]
  },
  {
   "cell_type": "code",
   "execution_count": null,
   "id": "4658962c",
   "metadata": {},
   "outputs": [],
   "source": [
    "\n",
    "plt.figure(figsize=(8,5))\n",
    "sns.histplot(df['V12'], kde=True, bins=30)\n",
    "plt.title('Distribution of V12')\n",
    "plt.tight_layout()\n",
    "plt.savefig('charts/hist_V12.png', dpi=150)\n",
    "plt.show()\n"
   ]
  },
  {
   "cell_type": "code",
   "execution_count": null,
   "id": "c989c9fa",
   "metadata": {},
   "outputs": [],
   "source": [
    "\n",
    "plt.figure(figsize=(8,5))\n",
    "sns.histplot(df['V13'], kde=True, bins=30)\n",
    "plt.title('Distribution of V13')\n",
    "plt.tight_layout()\n",
    "plt.savefig('charts/hist_V13.png', dpi=150)\n",
    "plt.show()\n"
   ]
  },
  {
   "cell_type": "code",
   "execution_count": null,
   "id": "6760bb15",
   "metadata": {},
   "outputs": [],
   "source": [
    "\n",
    "plt.figure(figsize=(8,5))\n",
    "sns.histplot(df['V14'], kde=True, bins=30)\n",
    "plt.title('Distribution of V14')\n",
    "plt.tight_layout()\n",
    "plt.savefig('charts/hist_V14.png', dpi=150)\n",
    "plt.show()\n"
   ]
  },
  {
   "cell_type": "code",
   "execution_count": null,
   "id": "9222f227",
   "metadata": {},
   "outputs": [],
   "source": [
    "\n",
    "plt.figure(figsize=(8,5))\n",
    "sns.histplot(df['V15'], kde=True, bins=30)\n",
    "plt.title('Distribution of V15')\n",
    "plt.tight_layout()\n",
    "plt.savefig('charts/hist_V15.png', dpi=150)\n",
    "plt.show()\n"
   ]
  },
  {
   "cell_type": "code",
   "execution_count": null,
   "id": "dd5c1e0a",
   "metadata": {},
   "outputs": [],
   "source": [
    "\n",
    "plt.figure(figsize=(8,5))\n",
    "sns.histplot(df['V16'], kde=True, bins=30)\n",
    "plt.title('Distribution of V16')\n",
    "plt.tight_layout()\n",
    "plt.savefig('charts/hist_V16.png', dpi=150)\n",
    "plt.show()\n"
   ]
  },
  {
   "cell_type": "code",
   "execution_count": null,
   "id": "0119dd6a",
   "metadata": {},
   "outputs": [],
   "source": [
    "\n",
    "plt.figure(figsize=(8,5))\n",
    "sns.histplot(df['V17'], kde=True, bins=30)\n",
    "plt.title('Distribution of V17')\n",
    "plt.tight_layout()\n",
    "plt.savefig('charts/hist_V17.png', dpi=150)\n",
    "plt.show()\n"
   ]
  },
  {
   "cell_type": "code",
   "execution_count": null,
   "id": "07c4fc9e",
   "metadata": {},
   "outputs": [],
   "source": [
    "\n",
    "plt.figure(figsize=(8,5))\n",
    "sns.histplot(df['V18'], kde=True, bins=30)\n",
    "plt.title('Distribution of V18')\n",
    "plt.tight_layout()\n",
    "plt.savefig('charts/hist_V18.png', dpi=150)\n",
    "plt.show()\n"
   ]
  },
  {
   "cell_type": "code",
   "execution_count": null,
   "id": "f244aa47",
   "metadata": {},
   "outputs": [],
   "source": [
    "\n",
    "plt.figure(figsize=(8,5))\n",
    "sns.histplot(df['V19'], kde=True, bins=30)\n",
    "plt.title('Distribution of V19')\n",
    "plt.tight_layout()\n",
    "plt.savefig('charts/hist_V19.png', dpi=150)\n",
    "plt.show()\n"
   ]
  },
  {
   "cell_type": "code",
   "execution_count": null,
   "id": "9a2b8b47",
   "metadata": {},
   "outputs": [],
   "source": [
    "\n",
    "plt.figure(figsize=(8,5))\n",
    "sns.histplot(df['V20'], kde=True, bins=30)\n",
    "plt.title('Distribution of V20')\n",
    "plt.tight_layout()\n",
    "plt.savefig('charts/hist_V20.png', dpi=150)\n",
    "plt.show()\n"
   ]
  },
  {
   "cell_type": "code",
   "execution_count": null,
   "id": "55d33d93",
   "metadata": {},
   "outputs": [],
   "source": [
    "\n",
    "plt.figure(figsize=(8,5))\n",
    "sns.histplot(df['V21'], kde=True, bins=30)\n",
    "plt.title('Distribution of V21')\n",
    "plt.tight_layout()\n",
    "plt.savefig('charts/hist_V21.png', dpi=150)\n",
    "plt.show()\n"
   ]
  },
  {
   "cell_type": "code",
   "execution_count": null,
   "id": "072c4b5b",
   "metadata": {},
   "outputs": [],
   "source": [
    "\n",
    "plt.figure(figsize=(8,5))\n",
    "sns.histplot(df['V22'], kde=True, bins=30)\n",
    "plt.title('Distribution of V22')\n",
    "plt.tight_layout()\n",
    "plt.savefig('charts/hist_V22.png', dpi=150)\n",
    "plt.show()\n"
   ]
  },
  {
   "cell_type": "code",
   "execution_count": null,
   "id": "18f186c6",
   "metadata": {},
   "outputs": [],
   "source": [
    "\n",
    "plt.figure(figsize=(8,5))\n",
    "sns.histplot(df['V23'], kde=True, bins=30)\n",
    "plt.title('Distribution of V23')\n",
    "plt.tight_layout()\n",
    "plt.savefig('charts/hist_V23.png', dpi=150)\n",
    "plt.show()\n"
   ]
  },
  {
   "cell_type": "code",
   "execution_count": null,
   "id": "82b6051f",
   "metadata": {},
   "outputs": [],
   "source": [
    "\n",
    "plt.figure(figsize=(8,5))\n",
    "sns.histplot(df['V24'], kde=True, bins=30)\n",
    "plt.title('Distribution of V24')\n",
    "plt.tight_layout()\n",
    "plt.savefig('charts/hist_V24.png', dpi=150)\n",
    "plt.show()\n"
   ]
  },
  {
   "cell_type": "code",
   "execution_count": null,
   "id": "4d0d58f6",
   "metadata": {},
   "outputs": [],
   "source": [
    "\n",
    "plt.figure(figsize=(8,5))\n",
    "sns.histplot(df['V25'], kde=True, bins=30)\n",
    "plt.title('Distribution of V25')\n",
    "plt.tight_layout()\n",
    "plt.savefig('charts/hist_V25.png', dpi=150)\n",
    "plt.show()\n"
   ]
  },
  {
   "cell_type": "code",
   "execution_count": null,
   "id": "d6d6d1f7",
   "metadata": {},
   "outputs": [],
   "source": [
    "\n",
    "plt.figure(figsize=(8,5))\n",
    "sns.histplot(df['V26'], kde=True, bins=30)\n",
    "plt.title('Distribution of V26')\n",
    "plt.tight_layout()\n",
    "plt.savefig('charts/hist_V26.png', dpi=150)\n",
    "plt.show()\n"
   ]
  },
  {
   "cell_type": "code",
   "execution_count": null,
   "id": "9b7e578c",
   "metadata": {},
   "outputs": [],
   "source": [
    "\n",
    "plt.figure(figsize=(8,5))\n",
    "sns.histplot(df['V27'], kde=True, bins=30)\n",
    "plt.title('Distribution of V27')\n",
    "plt.tight_layout()\n",
    "plt.savefig('charts/hist_V27.png', dpi=150)\n",
    "plt.show()\n"
   ]
  },
  {
   "cell_type": "code",
   "execution_count": null,
   "id": "27c35a90",
   "metadata": {},
   "outputs": [],
   "source": [
    "\n",
    "plt.figure(figsize=(8,5))\n",
    "sns.histplot(df['V28'], kde=True, bins=30)\n",
    "plt.title('Distribution of V28')\n",
    "plt.tight_layout()\n",
    "plt.savefig('charts/hist_V28.png', dpi=150)\n",
    "plt.show()\n"
   ]
  },
  {
   "cell_type": "code",
   "execution_count": null,
   "id": "d1c05137",
   "metadata": {},
   "outputs": [],
   "source": [
    "\n",
    "plt.figure(figsize=(8,5))\n",
    "sns.histplot(df['Amount'], kde=True, bins=30)\n",
    "plt.title('Distribution of Amount')\n",
    "plt.tight_layout()\n",
    "plt.savefig('charts/hist_Amount.png', dpi=150)\n",
    "plt.show()\n"
   ]
  },
  {
   "cell_type": "code",
   "execution_count": null,
   "id": "c759665b",
   "metadata": {},
   "outputs": [],
   "source": [
    "\n",
    "plt.figure(figsize=(8,5))\n",
    "sns.histplot(df['Class'], kde=True, bins=30)\n",
    "plt.title('Distribution of Class')\n",
    "plt.tight_layout()\n",
    "plt.savefig('charts/hist_Class.png', dpi=150)\n",
    "plt.show()\n"
   ]
  },
  {
   "cell_type": "code",
   "execution_count": null,
   "id": "32e9a7cf",
   "metadata": {},
   "outputs": [],
   "source": [
    "\n",
    "plt.figure(figsize=(15,6))\n",
    "sns.boxplot(data=df[['Time', 'V1', 'V2', 'V3', 'V4', 'V5', 'V6', 'V7', 'V8', 'V9', 'V10', 'V11', 'V12', 'V13', 'V14', 'V15', 'V16', 'V17', 'V18', 'V19', 'V20', 'V21', 'V22', 'V23', 'V24', 'V25', 'V26', 'V27', 'V28', 'Amount', 'Class']])\n",
    "plt.title('Boxplot of Numeric Features')\n",
    "plt.xticks(rotation=45)\n",
    "plt.tight_layout()\n",
    "plt.savefig('charts/boxplots.png', dpi=150)\n",
    "plt.show()\n"
   ]
  },
  {
   "cell_type": "code",
   "execution_count": null,
   "id": "7a01cd93",
   "metadata": {},
   "outputs": [],
   "source": [
    "\n",
    "plt.figure(figsize=(8,5))\n",
    "sns.violinplot(y=df['Time'])\n",
    "plt.title('Violin plot of Time')\n",
    "plt.tight_layout()\n",
    "plt.savefig('charts/violin_Time.png', dpi=150)\n",
    "plt.show()\n"
   ]
  },
  {
   "cell_type": "code",
   "execution_count": null,
   "id": "1617fa15",
   "metadata": {},
   "outputs": [],
   "source": [
    "\n",
    "plt.figure(figsize=(8,5))\n",
    "sns.violinplot(y=df['V1'])\n",
    "plt.title('Violin plot of V1')\n",
    "plt.tight_layout()\n",
    "plt.savefig('charts/violin_V1.png', dpi=150)\n",
    "plt.show()\n"
   ]
  },
  {
   "cell_type": "code",
   "execution_count": null,
   "id": "b4eb0bd7",
   "metadata": {},
   "outputs": [],
   "source": [
    "\n",
    "plt.figure(figsize=(8,5))\n",
    "sns.violinplot(y=df['V2'])\n",
    "plt.title('Violin plot of V2')\n",
    "plt.tight_layout()\n",
    "plt.savefig('charts/violin_V2.png', dpi=150)\n",
    "plt.show()\n"
   ]
  },
  {
   "cell_type": "code",
   "execution_count": null,
   "id": "9acf27c6",
   "metadata": {},
   "outputs": [],
   "source": [
    "\n",
    "plt.figure(figsize=(8,5))\n",
    "sns.violinplot(y=df['V3'])\n",
    "plt.title('Violin plot of V3')\n",
    "plt.tight_layout()\n",
    "plt.savefig('charts/violin_V3.png', dpi=150)\n",
    "plt.show()\n"
   ]
  },
  {
   "cell_type": "code",
   "execution_count": null,
   "id": "f7e04d38",
   "metadata": {},
   "outputs": [],
   "source": [
    "\n",
    "plt.figure(figsize=(8,5))\n",
    "sns.violinplot(y=df['V4'])\n",
    "plt.title('Violin plot of V4')\n",
    "plt.tight_layout()\n",
    "plt.savefig('charts/violin_V4.png', dpi=150)\n",
    "plt.show()\n"
   ]
  },
  {
   "cell_type": "code",
   "execution_count": null,
   "id": "771dcd64",
   "metadata": {},
   "outputs": [],
   "source": [
    "\n",
    "plt.figure(figsize=(8,5))\n",
    "sns.violinplot(y=df['V5'])\n",
    "plt.title('Violin plot of V5')\n",
    "plt.tight_layout()\n",
    "plt.savefig('charts/violin_V5.png', dpi=150)\n",
    "plt.show()\n"
   ]
  },
  {
   "cell_type": "code",
   "execution_count": null,
   "id": "921fb840",
   "metadata": {},
   "outputs": [],
   "source": [
    "\n",
    "plt.figure(figsize=(8,5))\n",
    "sns.violinplot(y=df['V6'])\n",
    "plt.title('Violin plot of V6')\n",
    "plt.tight_layout()\n",
    "plt.savefig('charts/violin_V6.png', dpi=150)\n",
    "plt.show()\n"
   ]
  },
  {
   "cell_type": "code",
   "execution_count": null,
   "id": "e66bfa1f",
   "metadata": {},
   "outputs": [],
   "source": [
    "\n",
    "plt.figure(figsize=(8,5))\n",
    "sns.violinplot(y=df['V7'])\n",
    "plt.title('Violin plot of V7')\n",
    "plt.tight_layout()\n",
    "plt.savefig('charts/violin_V7.png', dpi=150)\n",
    "plt.show()\n"
   ]
  },
  {
   "cell_type": "code",
   "execution_count": null,
   "id": "7d4546e1",
   "metadata": {},
   "outputs": [],
   "source": [
    "\n",
    "plt.figure(figsize=(8,5))\n",
    "sns.violinplot(y=df['V8'])\n",
    "plt.title('Violin plot of V8')\n",
    "plt.tight_layout()\n",
    "plt.savefig('charts/violin_V8.png', dpi=150)\n",
    "plt.show()\n"
   ]
  },
  {
   "cell_type": "code",
   "execution_count": null,
   "id": "5d33dada",
   "metadata": {},
   "outputs": [],
   "source": [
    "\n",
    "plt.figure(figsize=(8,5))\n",
    "sns.violinplot(y=df['V9'])\n",
    "plt.title('Violin plot of V9')\n",
    "plt.tight_layout()\n",
    "plt.savefig('charts/violin_V9.png', dpi=150)\n",
    "plt.show()\n"
   ]
  },
  {
   "cell_type": "code",
   "execution_count": null,
   "id": "9b668788",
   "metadata": {},
   "outputs": [],
   "source": [
    "\n",
    "plt.figure(figsize=(8,5))\n",
    "sns.violinplot(y=df['V10'])\n",
    "plt.title('Violin plot of V10')\n",
    "plt.tight_layout()\n",
    "plt.savefig('charts/violin_V10.png', dpi=150)\n",
    "plt.show()\n"
   ]
  },
  {
   "cell_type": "code",
   "execution_count": null,
   "id": "578ef0ca",
   "metadata": {},
   "outputs": [],
   "source": [
    "\n",
    "plt.figure(figsize=(8,5))\n",
    "sns.violinplot(y=df['V11'])\n",
    "plt.title('Violin plot of V11')\n",
    "plt.tight_layout()\n",
    "plt.savefig('charts/violin_V11.png', dpi=150)\n",
    "plt.show()\n"
   ]
  },
  {
   "cell_type": "code",
   "execution_count": null,
   "id": "c0ac1125",
   "metadata": {},
   "outputs": [],
   "source": [
    "\n",
    "plt.figure(figsize=(8,5))\n",
    "sns.violinplot(y=df['V12'])\n",
    "plt.title('Violin plot of V12')\n",
    "plt.tight_layout()\n",
    "plt.savefig('charts/violin_V12.png', dpi=150)\n",
    "plt.show()\n"
   ]
  },
  {
   "cell_type": "code",
   "execution_count": null,
   "id": "e11d3073",
   "metadata": {},
   "outputs": [],
   "source": [
    "\n",
    "plt.figure(figsize=(8,5))\n",
    "sns.violinplot(y=df['V13'])\n",
    "plt.title('Violin plot of V13')\n",
    "plt.tight_layout()\n",
    "plt.savefig('charts/violin_V13.png', dpi=150)\n",
    "plt.show()\n"
   ]
  },
  {
   "cell_type": "code",
   "execution_count": null,
   "id": "4a3c3e46",
   "metadata": {},
   "outputs": [],
   "source": [
    "\n",
    "plt.figure(figsize=(8,5))\n",
    "sns.violinplot(y=df['V14'])\n",
    "plt.title('Violin plot of V14')\n",
    "plt.tight_layout()\n",
    "plt.savefig('charts/violin_V14.png', dpi=150)\n",
    "plt.show()\n"
   ]
  },
  {
   "cell_type": "code",
   "execution_count": null,
   "id": "28af4e7e",
   "metadata": {},
   "outputs": [],
   "source": [
    "\n",
    "plt.figure(figsize=(8,5))\n",
    "sns.violinplot(y=df['V15'])\n",
    "plt.title('Violin plot of V15')\n",
    "plt.tight_layout()\n",
    "plt.savefig('charts/violin_V15.png', dpi=150)\n",
    "plt.show()\n"
   ]
  },
  {
   "cell_type": "code",
   "execution_count": null,
   "id": "5580caca",
   "metadata": {},
   "outputs": [],
   "source": [
    "\n",
    "plt.figure(figsize=(8,5))\n",
    "sns.violinplot(y=df['V16'])\n",
    "plt.title('Violin plot of V16')\n",
    "plt.tight_layout()\n",
    "plt.savefig('charts/violin_V16.png', dpi=150)\n",
    "plt.show()\n"
   ]
  },
  {
   "cell_type": "code",
   "execution_count": null,
   "id": "b6e6230e",
   "metadata": {},
   "outputs": [],
   "source": [
    "\n",
    "plt.figure(figsize=(8,5))\n",
    "sns.violinplot(y=df['V17'])\n",
    "plt.title('Violin plot of V17')\n",
    "plt.tight_layout()\n",
    "plt.savefig('charts/violin_V17.png', dpi=150)\n",
    "plt.show()\n"
   ]
  },
  {
   "cell_type": "code",
   "execution_count": null,
   "id": "cb4764e1",
   "metadata": {},
   "outputs": [],
   "source": [
    "\n",
    "plt.figure(figsize=(8,5))\n",
    "sns.violinplot(y=df['V18'])\n",
    "plt.title('Violin plot of V18')\n",
    "plt.tight_layout()\n",
    "plt.savefig('charts/violin_V18.png', dpi=150)\n",
    "plt.show()\n"
   ]
  },
  {
   "cell_type": "code",
   "execution_count": null,
   "id": "c5fcc2ef",
   "metadata": {},
   "outputs": [],
   "source": [
    "\n",
    "plt.figure(figsize=(8,5))\n",
    "sns.violinplot(y=df['V19'])\n",
    "plt.title('Violin plot of V19')\n",
    "plt.tight_layout()\n",
    "plt.savefig('charts/violin_V19.png', dpi=150)\n",
    "plt.show()\n"
   ]
  },
  {
   "cell_type": "code",
   "execution_count": null,
   "id": "2cc6d469",
   "metadata": {},
   "outputs": [],
   "source": [
    "\n",
    "plt.figure(figsize=(8,5))\n",
    "sns.violinplot(y=df['V20'])\n",
    "plt.title('Violin plot of V20')\n",
    "plt.tight_layout()\n",
    "plt.savefig('charts/violin_V20.png', dpi=150)\n",
    "plt.show()\n"
   ]
  },
  {
   "cell_type": "code",
   "execution_count": null,
   "id": "8caed02c",
   "metadata": {},
   "outputs": [],
   "source": [
    "\n",
    "plt.figure(figsize=(8,5))\n",
    "sns.violinplot(y=df['V21'])\n",
    "plt.title('Violin plot of V21')\n",
    "plt.tight_layout()\n",
    "plt.savefig('charts/violin_V21.png', dpi=150)\n",
    "plt.show()\n"
   ]
  },
  {
   "cell_type": "code",
   "execution_count": null,
   "id": "8c4ea5da",
   "metadata": {},
   "outputs": [],
   "source": [
    "\n",
    "plt.figure(figsize=(8,5))\n",
    "sns.violinplot(y=df['V22'])\n",
    "plt.title('Violin plot of V22')\n",
    "plt.tight_layout()\n",
    "plt.savefig('charts/violin_V22.png', dpi=150)\n",
    "plt.show()\n"
   ]
  },
  {
   "cell_type": "code",
   "execution_count": null,
   "id": "16cda470",
   "metadata": {},
   "outputs": [],
   "source": [
    "\n",
    "plt.figure(figsize=(8,5))\n",
    "sns.violinplot(y=df['V23'])\n",
    "plt.title('Violin plot of V23')\n",
    "plt.tight_layout()\n",
    "plt.savefig('charts/violin_V23.png', dpi=150)\n",
    "plt.show()\n"
   ]
  },
  {
   "cell_type": "code",
   "execution_count": null,
   "id": "c03b4658",
   "metadata": {},
   "outputs": [],
   "source": [
    "\n",
    "plt.figure(figsize=(8,5))\n",
    "sns.violinplot(y=df['V24'])\n",
    "plt.title('Violin plot of V24')\n",
    "plt.tight_layout()\n",
    "plt.savefig('charts/violin_V24.png', dpi=150)\n",
    "plt.show()\n"
   ]
  },
  {
   "cell_type": "code",
   "execution_count": null,
   "id": "1dcf57ea",
   "metadata": {},
   "outputs": [],
   "source": [
    "\n",
    "plt.figure(figsize=(8,5))\n",
    "sns.violinplot(y=df['V25'])\n",
    "plt.title('Violin plot of V25')\n",
    "plt.tight_layout()\n",
    "plt.savefig('charts/violin_V25.png', dpi=150)\n",
    "plt.show()\n"
   ]
  },
  {
   "cell_type": "code",
   "execution_count": null,
   "id": "fdb1294d",
   "metadata": {},
   "outputs": [],
   "source": [
    "\n",
    "plt.figure(figsize=(8,5))\n",
    "sns.violinplot(y=df['V26'])\n",
    "plt.title('Violin plot of V26')\n",
    "plt.tight_layout()\n",
    "plt.savefig('charts/violin_V26.png', dpi=150)\n",
    "plt.show()\n"
   ]
  },
  {
   "cell_type": "code",
   "execution_count": null,
   "id": "bace99d4",
   "metadata": {},
   "outputs": [],
   "source": [
    "\n",
    "plt.figure(figsize=(8,5))\n",
    "sns.violinplot(y=df['V27'])\n",
    "plt.title('Violin plot of V27')\n",
    "plt.tight_layout()\n",
    "plt.savefig('charts/violin_V27.png', dpi=150)\n",
    "plt.show()\n"
   ]
  },
  {
   "cell_type": "code",
   "execution_count": null,
   "id": "db6cbcbf",
   "metadata": {},
   "outputs": [],
   "source": [
    "\n",
    "plt.figure(figsize=(8,5))\n",
    "sns.violinplot(y=df['V28'])\n",
    "plt.title('Violin plot of V28')\n",
    "plt.tight_layout()\n",
    "plt.savefig('charts/violin_V28.png', dpi=150)\n",
    "plt.show()\n"
   ]
  },
  {
   "cell_type": "code",
   "execution_count": null,
   "id": "d28f6d1f",
   "metadata": {},
   "outputs": [],
   "source": [
    "\n",
    "plt.figure(figsize=(8,5))\n",
    "sns.violinplot(y=df['Amount'])\n",
    "plt.title('Violin plot of Amount')\n",
    "plt.tight_layout()\n",
    "plt.savefig('charts/violin_Amount.png', dpi=150)\n",
    "plt.show()\n"
   ]
  },
  {
   "cell_type": "code",
   "execution_count": null,
   "id": "a0f29959",
   "metadata": {},
   "outputs": [],
   "source": [
    "\n",
    "plt.figure(figsize=(8,5))\n",
    "sns.violinplot(y=df['Class'])\n",
    "plt.title('Violin plot of Class')\n",
    "plt.tight_layout()\n",
    "plt.savefig('charts/violin_Class.png', dpi=150)\n",
    "plt.show()\n"
   ]
  },
  {
   "cell_type": "code",
   "execution_count": null,
   "id": "4e4303bf",
   "metadata": {},
   "outputs": [],
   "source": [
    "\n",
    "sns.pairplot(df[['Time', 'V1', 'V2', 'V3', 'V4', 'V5', 'V6', 'V7', 'V8', 'V9', 'V10', 'V11', 'V12', 'V13', 'V14', 'V15', 'V16', 'V17', 'V18', 'V19', 'V20', 'V21', 'V22', 'V23', 'V24', 'V25', 'V26', 'V27', 'V28', 'Amount', 'Class']])\n",
    "plt.savefig('charts/pairplot.png', dpi=150)\n",
    "plt.show()\n"
   ]
  }
 ],
 "metadata": {},
 "nbformat": 4,
 "nbformat_minor": 5
}
